{
 "cells": [
  {
   "cell_type": "markdown",
   "id": "bff7aed1-b4c2-4280-a7c0-faae349215fc",
   "metadata": {},
   "source": [
    "# eBay Price Tracker\n"
   ]
  },
  {
   "cell_type": "code",
   "execution_count": null,
   "id": "4f495f2d-c09e-47d9-b65d-7ca9f5bf9fe0",
   "metadata": {},
   "outputs": [],
   "source": []
  }
 ],
 "metadata": {
  "kernelspec": {
   "display_name": "Python 3 (ipykernel)",
   "language": "python",
   "name": "python3"
  },
  "language_info": {
   "codemirror_mode": {
    "name": "ipython",
    "version": 3
   },
   "file_extension": ".py",
   "mimetype": "text/x-python",
   "name": "python",
   "nbconvert_exporter": "python",
   "pygments_lexer": "ipython3",
   "version": "3.12.4"
  }
 },
 "nbformat": 4,
 "nbformat_minor": 5
}
